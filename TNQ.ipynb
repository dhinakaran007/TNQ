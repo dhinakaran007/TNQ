{
  "nbformat": 4,
  "nbformat_minor": 0,
  "metadata": {
    "colab": {
      "provenance": []
    },
    "kernelspec": {
      "name": "python3",
      "display_name": "Python 3"
    },
    "language_info": {
      "name": "python"
    }
  },
  "cells": [
    {
      "cell_type": "code",
      "execution_count": 1,
      "metadata": {
        "id": "JRdywf0hkCnJ"
      },
      "outputs": [],
      "source": [
        "import pandas as pd\n",
        "import numpy as np"
      ]
    },
    {
      "cell_type": "code",
      "source": [
        "import matplotlib.pyplot as plt\n",
        "import seaborn as sns"
      ],
      "metadata": {
        "id": "ZSTCVxVLkPis"
      },
      "execution_count": 2,
      "outputs": []
    },
    {
      "cell_type": "code",
      "source": [
        "data = pd.read_csv(\"/content/world_population.csv\")\n",
        "data.head()"
      ],
      "metadata": {
        "colab": {
          "base_uri": "https://localhost:8080/",
          "height": 340
        },
        "id": "Y1qENog_k5BE",
        "outputId": "84f01acc-27b6-4b56-89f6-3e8083f065e6"
      },
      "execution_count": 3,
      "outputs": [
        {
          "output_type": "execute_result",
          "data": {
            "text/plain": [
              "   Rank CCA3         Country           Capital Continent  2022 Population  \\\n",
              "0    36  AFG     Afghanistan             Kabul      Asia         41128771   \n",
              "1   138  ALB         Albania            Tirana    Europe          2842321   \n",
              "2    34  DZA         Algeria           Algiers    Africa         44903225   \n",
              "3   213  ASM  American Samoa         Pago Pago   Oceania            44273   \n",
              "4   203  AND         Andorra  Andorra la Vella    Europe            79824   \n",
              "\n",
              "   2020 Population  2015 Population  2010 Population  2000 Population  \\\n",
              "0         38972230         33753499         28189672         19542982   \n",
              "1          2866849          2882481          2913399          3182021   \n",
              "2         43451666         39543154         35856344         30774621   \n",
              "3            46189            51368            54849            58230   \n",
              "4            77700            71746            71519            66097   \n",
              "\n",
              "   1990 Population  1980 Population  1970 Population  Area (km²)  \\\n",
              "0         10694796         12486631         10752971      652230   \n",
              "1          3295066          2941651          2324731       28748   \n",
              "2         25518074         18739378         13795915     2381741   \n",
              "3            47818            32886            27075         199   \n",
              "4            53569            35611            19860         468   \n",
              "\n",
              "   Density (per km²)  Growth Rate  World Population Percentage  \n",
              "0            63.0587       1.0257                         0.52  \n",
              "1            98.8702       0.9957                         0.04  \n",
              "2            18.8531       1.0164                         0.56  \n",
              "3           222.4774       0.9831                         0.00  \n",
              "4           170.5641       1.0100                         0.00  "
            ],
            "text/html": [
              "\n",
              "  <div id=\"df-5f448c89-72fa-4b99-bb1a-2ae5769d76ee\">\n",
              "    <div class=\"colab-df-container\">\n",
              "      <div>\n",
              "<style scoped>\n",
              "    .dataframe tbody tr th:only-of-type {\n",
              "        vertical-align: middle;\n",
              "    }\n",
              "\n",
              "    .dataframe tbody tr th {\n",
              "        vertical-align: top;\n",
              "    }\n",
              "\n",
              "    .dataframe thead th {\n",
              "        text-align: right;\n",
              "    }\n",
              "</style>\n",
              "<table border=\"1\" class=\"dataframe\">\n",
              "  <thead>\n",
              "    <tr style=\"text-align: right;\">\n",
              "      <th></th>\n",
              "      <th>Rank</th>\n",
              "      <th>CCA3</th>\n",
              "      <th>Country</th>\n",
              "      <th>Capital</th>\n",
              "      <th>Continent</th>\n",
              "      <th>2022 Population</th>\n",
              "      <th>2020 Population</th>\n",
              "      <th>2015 Population</th>\n",
              "      <th>2010 Population</th>\n",
              "      <th>2000 Population</th>\n",
              "      <th>1990 Population</th>\n",
              "      <th>1980 Population</th>\n",
              "      <th>1970 Population</th>\n",
              "      <th>Area (km²)</th>\n",
              "      <th>Density (per km²)</th>\n",
              "      <th>Growth Rate</th>\n",
              "      <th>World Population Percentage</th>\n",
              "    </tr>\n",
              "  </thead>\n",
              "  <tbody>\n",
              "    <tr>\n",
              "      <th>0</th>\n",
              "      <td>36</td>\n",
              "      <td>AFG</td>\n",
              "      <td>Afghanistan</td>\n",
              "      <td>Kabul</td>\n",
              "      <td>Asia</td>\n",
              "      <td>41128771</td>\n",
              "      <td>38972230</td>\n",
              "      <td>33753499</td>\n",
              "      <td>28189672</td>\n",
              "      <td>19542982</td>\n",
              "      <td>10694796</td>\n",
              "      <td>12486631</td>\n",
              "      <td>10752971</td>\n",
              "      <td>652230</td>\n",
              "      <td>63.0587</td>\n",
              "      <td>1.0257</td>\n",
              "      <td>0.52</td>\n",
              "    </tr>\n",
              "    <tr>\n",
              "      <th>1</th>\n",
              "      <td>138</td>\n",
              "      <td>ALB</td>\n",
              "      <td>Albania</td>\n",
              "      <td>Tirana</td>\n",
              "      <td>Europe</td>\n",
              "      <td>2842321</td>\n",
              "      <td>2866849</td>\n",
              "      <td>2882481</td>\n",
              "      <td>2913399</td>\n",
              "      <td>3182021</td>\n",
              "      <td>3295066</td>\n",
              "      <td>2941651</td>\n",
              "      <td>2324731</td>\n",
              "      <td>28748</td>\n",
              "      <td>98.8702</td>\n",
              "      <td>0.9957</td>\n",
              "      <td>0.04</td>\n",
              "    </tr>\n",
              "    <tr>\n",
              "      <th>2</th>\n",
              "      <td>34</td>\n",
              "      <td>DZA</td>\n",
              "      <td>Algeria</td>\n",
              "      <td>Algiers</td>\n",
              "      <td>Africa</td>\n",
              "      <td>44903225</td>\n",
              "      <td>43451666</td>\n",
              "      <td>39543154</td>\n",
              "      <td>35856344</td>\n",
              "      <td>30774621</td>\n",
              "      <td>25518074</td>\n",
              "      <td>18739378</td>\n",
              "      <td>13795915</td>\n",
              "      <td>2381741</td>\n",
              "      <td>18.8531</td>\n",
              "      <td>1.0164</td>\n",
              "      <td>0.56</td>\n",
              "    </tr>\n",
              "    <tr>\n",
              "      <th>3</th>\n",
              "      <td>213</td>\n",
              "      <td>ASM</td>\n",
              "      <td>American Samoa</td>\n",
              "      <td>Pago Pago</td>\n",
              "      <td>Oceania</td>\n",
              "      <td>44273</td>\n",
              "      <td>46189</td>\n",
              "      <td>51368</td>\n",
              "      <td>54849</td>\n",
              "      <td>58230</td>\n",
              "      <td>47818</td>\n",
              "      <td>32886</td>\n",
              "      <td>27075</td>\n",
              "      <td>199</td>\n",
              "      <td>222.4774</td>\n",
              "      <td>0.9831</td>\n",
              "      <td>0.00</td>\n",
              "    </tr>\n",
              "    <tr>\n",
              "      <th>4</th>\n",
              "      <td>203</td>\n",
              "      <td>AND</td>\n",
              "      <td>Andorra</td>\n",
              "      <td>Andorra la Vella</td>\n",
              "      <td>Europe</td>\n",
              "      <td>79824</td>\n",
              "      <td>77700</td>\n",
              "      <td>71746</td>\n",
              "      <td>71519</td>\n",
              "      <td>66097</td>\n",
              "      <td>53569</td>\n",
              "      <td>35611</td>\n",
              "      <td>19860</td>\n",
              "      <td>468</td>\n",
              "      <td>170.5641</td>\n",
              "      <td>1.0100</td>\n",
              "      <td>0.00</td>\n",
              "    </tr>\n",
              "  </tbody>\n",
              "</table>\n",
              "</div>\n",
              "      <button class=\"colab-df-convert\" onclick=\"convertToInteractive('df-5f448c89-72fa-4b99-bb1a-2ae5769d76ee')\"\n",
              "              title=\"Convert this dataframe to an interactive table.\"\n",
              "              style=\"display:none;\">\n",
              "        \n",
              "  <svg xmlns=\"http://www.w3.org/2000/svg\" height=\"24px\"viewBox=\"0 0 24 24\"\n",
              "       width=\"24px\">\n",
              "    <path d=\"M0 0h24v24H0V0z\" fill=\"none\"/>\n",
              "    <path d=\"M18.56 5.44l.94 2.06.94-2.06 2.06-.94-2.06-.94-.94-2.06-.94 2.06-2.06.94zm-11 1L8.5 8.5l.94-2.06 2.06-.94-2.06-.94L8.5 2.5l-.94 2.06-2.06.94zm10 10l.94 2.06.94-2.06 2.06-.94-2.06-.94-.94-2.06-.94 2.06-2.06.94z\"/><path d=\"M17.41 7.96l-1.37-1.37c-.4-.4-.92-.59-1.43-.59-.52 0-1.04.2-1.43.59L10.3 9.45l-7.72 7.72c-.78.78-.78 2.05 0 2.83L4 21.41c.39.39.9.59 1.41.59.51 0 1.02-.2 1.41-.59l7.78-7.78 2.81-2.81c.8-.78.8-2.07 0-2.86zM5.41 20L4 18.59l7.72-7.72 1.47 1.35L5.41 20z\"/>\n",
              "  </svg>\n",
              "      </button>\n",
              "      \n",
              "  <style>\n",
              "    .colab-df-container {\n",
              "      display:flex;\n",
              "      flex-wrap:wrap;\n",
              "      gap: 12px;\n",
              "    }\n",
              "\n",
              "    .colab-df-convert {\n",
              "      background-color: #E8F0FE;\n",
              "      border: none;\n",
              "      border-radius: 50%;\n",
              "      cursor: pointer;\n",
              "      display: none;\n",
              "      fill: #1967D2;\n",
              "      height: 32px;\n",
              "      padding: 0 0 0 0;\n",
              "      width: 32px;\n",
              "    }\n",
              "\n",
              "    .colab-df-convert:hover {\n",
              "      background-color: #E2EBFA;\n",
              "      box-shadow: 0px 1px 2px rgba(60, 64, 67, 0.3), 0px 1px 3px 1px rgba(60, 64, 67, 0.15);\n",
              "      fill: #174EA6;\n",
              "    }\n",
              "\n",
              "    [theme=dark] .colab-df-convert {\n",
              "      background-color: #3B4455;\n",
              "      fill: #D2E3FC;\n",
              "    }\n",
              "\n",
              "    [theme=dark] .colab-df-convert:hover {\n",
              "      background-color: #434B5C;\n",
              "      box-shadow: 0px 1px 3px 1px rgba(0, 0, 0, 0.15);\n",
              "      filter: drop-shadow(0px 1px 2px rgba(0, 0, 0, 0.3));\n",
              "      fill: #FFFFFF;\n",
              "    }\n",
              "  </style>\n",
              "\n",
              "      <script>\n",
              "        const buttonEl =\n",
              "          document.querySelector('#df-5f448c89-72fa-4b99-bb1a-2ae5769d76ee button.colab-df-convert');\n",
              "        buttonEl.style.display =\n",
              "          google.colab.kernel.accessAllowed ? 'block' : 'none';\n",
              "\n",
              "        async function convertToInteractive(key) {\n",
              "          const element = document.querySelector('#df-5f448c89-72fa-4b99-bb1a-2ae5769d76ee');\n",
              "          const dataTable =\n",
              "            await google.colab.kernel.invokeFunction('convertToInteractive',\n",
              "                                                     [key], {});\n",
              "          if (!dataTable) return;\n",
              "\n",
              "          const docLinkHtml = 'Like what you see? Visit the ' +\n",
              "            '<a target=\"_blank\" href=https://colab.research.google.com/notebooks/data_table.ipynb>data table notebook</a>'\n",
              "            + ' to learn more about interactive tables.';\n",
              "          element.innerHTML = '';\n",
              "          dataTable['output_type'] = 'display_data';\n",
              "          await google.colab.output.renderOutput(dataTable, element);\n",
              "          const docLink = document.createElement('div');\n",
              "          docLink.innerHTML = docLinkHtml;\n",
              "          element.appendChild(docLink);\n",
              "        }\n",
              "      </script>\n",
              "    </div>\n",
              "  </div>\n",
              "  "
            ]
          },
          "metadata": {},
          "execution_count": 3
        }
      ]
    },
    {
      "cell_type": "code",
      "source": [
        "data.info()"
      ],
      "metadata": {
        "colab": {
          "base_uri": "https://localhost:8080/"
        },
        "id": "QI5dhwzgqj6d",
        "outputId": "5eaf117a-13ff-4892-89a3-a3d335c68244"
      },
      "execution_count": 4,
      "outputs": [
        {
          "output_type": "stream",
          "name": "stdout",
          "text": [
            "<class 'pandas.core.frame.DataFrame'>\n",
            "RangeIndex: 234 entries, 0 to 233\n",
            "Data columns (total 17 columns):\n",
            " #   Column                       Non-Null Count  Dtype  \n",
            "---  ------                       --------------  -----  \n",
            " 0   Rank                         234 non-null    int64  \n",
            " 1   CCA3                         234 non-null    object \n",
            " 2   Country                      234 non-null    object \n",
            " 3   Capital                      234 non-null    object \n",
            " 4   Continent                    234 non-null    object \n",
            " 5   2022 Population              234 non-null    int64  \n",
            " 6   2020 Population              234 non-null    int64  \n",
            " 7   2015 Population              234 non-null    int64  \n",
            " 8   2010 Population              234 non-null    int64  \n",
            " 9   2000 Population              234 non-null    int64  \n",
            " 10  1990 Population              234 non-null    int64  \n",
            " 11  1980 Population              234 non-null    int64  \n",
            " 12  1970 Population              234 non-null    int64  \n",
            " 13  Area (km²)                   234 non-null    int64  \n",
            " 14  Density (per km²)            234 non-null    float64\n",
            " 15  Growth Rate                  234 non-null    float64\n",
            " 16  World Population Percentage  234 non-null    float64\n",
            "dtypes: float64(3), int64(10), object(4)\n",
            "memory usage: 31.2+ KB\n"
          ]
        }
      ]
    },
    {
      "cell_type": "code",
      "source": [
        "data.describe()"
      ],
      "metadata": {
        "colab": {
          "base_uri": "https://localhost:8080/",
          "height": 399
        },
        "id": "GitcoJhPqog1",
        "outputId": "a1319639-c47f-4f4d-a493-2566fa00bc0a"
      },
      "execution_count": 5,
      "outputs": [
        {
          "output_type": "execute_result",
          "data": {
            "text/plain": [
              "             Rank  2022 Population  2020 Population  2015 Population  \\\n",
              "count  234.000000     2.340000e+02     2.340000e+02     2.340000e+02   \n",
              "mean   117.500000     3.407441e+07     3.350107e+07     3.172996e+07   \n",
              "std     67.694165     1.367664e+08     1.355899e+08     1.304050e+08   \n",
              "min      1.000000     5.100000e+02     5.200000e+02     5.640000e+02   \n",
              "25%     59.250000     4.197385e+05     4.152845e+05     4.046760e+05   \n",
              "50%    117.500000     5.559944e+06     5.493074e+06     5.307400e+06   \n",
              "75%    175.750000     2.247650e+07     2.144798e+07     1.973085e+07   \n",
              "max    234.000000     1.425887e+09     1.424930e+09     1.393715e+09   \n",
              "\n",
              "       2010 Population  2000 Population  1990 Population  1980 Population  \\\n",
              "count     2.340000e+02     2.340000e+02     2.340000e+02     2.340000e+02   \n",
              "mean      2.984524e+07     2.626947e+07     2.271022e+07     1.898462e+07   \n",
              "std       1.242185e+08     1.116982e+08     9.783217e+07     8.178519e+07   \n",
              "min       5.960000e+02     6.510000e+02     7.000000e+02     7.330000e+02   \n",
              "25%       3.931490e+05     3.272420e+05     2.641158e+05     2.296142e+05   \n",
              "50%       4.942770e+06     4.292907e+06     3.825410e+06     3.141146e+06   \n",
              "75%       1.915957e+07     1.576230e+07     1.186923e+07     9.826054e+06   \n",
              "max       1.348191e+09     1.264099e+09     1.153704e+09     9.823725e+08   \n",
              "\n",
              "       1970 Population    Area (km²)  Density (per km²)  Growth Rate  \\\n",
              "count     2.340000e+02  2.340000e+02         234.000000   234.000000   \n",
              "mean      1.578691e+07  5.814494e+05         452.127044     1.009577   \n",
              "std       6.779509e+07  1.761841e+06        2066.121904     0.013385   \n",
              "min       7.520000e+02  1.000000e+00           0.026100     0.912000   \n",
              "25%       1.559970e+05  2.650000e+03          38.417875     1.001775   \n",
              "50%       2.604830e+06  8.119950e+04          95.346750     1.007900   \n",
              "75%       8.817329e+06  4.304258e+05         238.933250     1.016950   \n",
              "max       8.225344e+08  1.709824e+07       23172.266700     1.069100   \n",
              "\n",
              "       World Population Percentage  \n",
              "count                   234.000000  \n",
              "mean                      0.427051  \n",
              "std                       1.714977  \n",
              "min                       0.000000  \n",
              "25%                       0.010000  \n",
              "50%                       0.070000  \n",
              "75%                       0.280000  \n",
              "max                      17.880000  "
            ],
            "text/html": [
              "\n",
              "  <div id=\"df-2613fed6-a56d-4be3-ac0d-30401bf2277f\">\n",
              "    <div class=\"colab-df-container\">\n",
              "      <div>\n",
              "<style scoped>\n",
              "    .dataframe tbody tr th:only-of-type {\n",
              "        vertical-align: middle;\n",
              "    }\n",
              "\n",
              "    .dataframe tbody tr th {\n",
              "        vertical-align: top;\n",
              "    }\n",
              "\n",
              "    .dataframe thead th {\n",
              "        text-align: right;\n",
              "    }\n",
              "</style>\n",
              "<table border=\"1\" class=\"dataframe\">\n",
              "  <thead>\n",
              "    <tr style=\"text-align: right;\">\n",
              "      <th></th>\n",
              "      <th>Rank</th>\n",
              "      <th>2022 Population</th>\n",
              "      <th>2020 Population</th>\n",
              "      <th>2015 Population</th>\n",
              "      <th>2010 Population</th>\n",
              "      <th>2000 Population</th>\n",
              "      <th>1990 Population</th>\n",
              "      <th>1980 Population</th>\n",
              "      <th>1970 Population</th>\n",
              "      <th>Area (km²)</th>\n",
              "      <th>Density (per km²)</th>\n",
              "      <th>Growth Rate</th>\n",
              "      <th>World Population Percentage</th>\n",
              "    </tr>\n",
              "  </thead>\n",
              "  <tbody>\n",
              "    <tr>\n",
              "      <th>count</th>\n",
              "      <td>234.000000</td>\n",
              "      <td>2.340000e+02</td>\n",
              "      <td>2.340000e+02</td>\n",
              "      <td>2.340000e+02</td>\n",
              "      <td>2.340000e+02</td>\n",
              "      <td>2.340000e+02</td>\n",
              "      <td>2.340000e+02</td>\n",
              "      <td>2.340000e+02</td>\n",
              "      <td>2.340000e+02</td>\n",
              "      <td>2.340000e+02</td>\n",
              "      <td>234.000000</td>\n",
              "      <td>234.000000</td>\n",
              "      <td>234.000000</td>\n",
              "    </tr>\n",
              "    <tr>\n",
              "      <th>mean</th>\n",
              "      <td>117.500000</td>\n",
              "      <td>3.407441e+07</td>\n",
              "      <td>3.350107e+07</td>\n",
              "      <td>3.172996e+07</td>\n",
              "      <td>2.984524e+07</td>\n",
              "      <td>2.626947e+07</td>\n",
              "      <td>2.271022e+07</td>\n",
              "      <td>1.898462e+07</td>\n",
              "      <td>1.578691e+07</td>\n",
              "      <td>5.814494e+05</td>\n",
              "      <td>452.127044</td>\n",
              "      <td>1.009577</td>\n",
              "      <td>0.427051</td>\n",
              "    </tr>\n",
              "    <tr>\n",
              "      <th>std</th>\n",
              "      <td>67.694165</td>\n",
              "      <td>1.367664e+08</td>\n",
              "      <td>1.355899e+08</td>\n",
              "      <td>1.304050e+08</td>\n",
              "      <td>1.242185e+08</td>\n",
              "      <td>1.116982e+08</td>\n",
              "      <td>9.783217e+07</td>\n",
              "      <td>8.178519e+07</td>\n",
              "      <td>6.779509e+07</td>\n",
              "      <td>1.761841e+06</td>\n",
              "      <td>2066.121904</td>\n",
              "      <td>0.013385</td>\n",
              "      <td>1.714977</td>\n",
              "    </tr>\n",
              "    <tr>\n",
              "      <th>min</th>\n",
              "      <td>1.000000</td>\n",
              "      <td>5.100000e+02</td>\n",
              "      <td>5.200000e+02</td>\n",
              "      <td>5.640000e+02</td>\n",
              "      <td>5.960000e+02</td>\n",
              "      <td>6.510000e+02</td>\n",
              "      <td>7.000000e+02</td>\n",
              "      <td>7.330000e+02</td>\n",
              "      <td>7.520000e+02</td>\n",
              "      <td>1.000000e+00</td>\n",
              "      <td>0.026100</td>\n",
              "      <td>0.912000</td>\n",
              "      <td>0.000000</td>\n",
              "    </tr>\n",
              "    <tr>\n",
              "      <th>25%</th>\n",
              "      <td>59.250000</td>\n",
              "      <td>4.197385e+05</td>\n",
              "      <td>4.152845e+05</td>\n",
              "      <td>4.046760e+05</td>\n",
              "      <td>3.931490e+05</td>\n",
              "      <td>3.272420e+05</td>\n",
              "      <td>2.641158e+05</td>\n",
              "      <td>2.296142e+05</td>\n",
              "      <td>1.559970e+05</td>\n",
              "      <td>2.650000e+03</td>\n",
              "      <td>38.417875</td>\n",
              "      <td>1.001775</td>\n",
              "      <td>0.010000</td>\n",
              "    </tr>\n",
              "    <tr>\n",
              "      <th>50%</th>\n",
              "      <td>117.500000</td>\n",
              "      <td>5.559944e+06</td>\n",
              "      <td>5.493074e+06</td>\n",
              "      <td>5.307400e+06</td>\n",
              "      <td>4.942770e+06</td>\n",
              "      <td>4.292907e+06</td>\n",
              "      <td>3.825410e+06</td>\n",
              "      <td>3.141146e+06</td>\n",
              "      <td>2.604830e+06</td>\n",
              "      <td>8.119950e+04</td>\n",
              "      <td>95.346750</td>\n",
              "      <td>1.007900</td>\n",
              "      <td>0.070000</td>\n",
              "    </tr>\n",
              "    <tr>\n",
              "      <th>75%</th>\n",
              "      <td>175.750000</td>\n",
              "      <td>2.247650e+07</td>\n",
              "      <td>2.144798e+07</td>\n",
              "      <td>1.973085e+07</td>\n",
              "      <td>1.915957e+07</td>\n",
              "      <td>1.576230e+07</td>\n",
              "      <td>1.186923e+07</td>\n",
              "      <td>9.826054e+06</td>\n",
              "      <td>8.817329e+06</td>\n",
              "      <td>4.304258e+05</td>\n",
              "      <td>238.933250</td>\n",
              "      <td>1.016950</td>\n",
              "      <td>0.280000</td>\n",
              "    </tr>\n",
              "    <tr>\n",
              "      <th>max</th>\n",
              "      <td>234.000000</td>\n",
              "      <td>1.425887e+09</td>\n",
              "      <td>1.424930e+09</td>\n",
              "      <td>1.393715e+09</td>\n",
              "      <td>1.348191e+09</td>\n",
              "      <td>1.264099e+09</td>\n",
              "      <td>1.153704e+09</td>\n",
              "      <td>9.823725e+08</td>\n",
              "      <td>8.225344e+08</td>\n",
              "      <td>1.709824e+07</td>\n",
              "      <td>23172.266700</td>\n",
              "      <td>1.069100</td>\n",
              "      <td>17.880000</td>\n",
              "    </tr>\n",
              "  </tbody>\n",
              "</table>\n",
              "</div>\n",
              "      <button class=\"colab-df-convert\" onclick=\"convertToInteractive('df-2613fed6-a56d-4be3-ac0d-30401bf2277f')\"\n",
              "              title=\"Convert this dataframe to an interactive table.\"\n",
              "              style=\"display:none;\">\n",
              "        \n",
              "  <svg xmlns=\"http://www.w3.org/2000/svg\" height=\"24px\"viewBox=\"0 0 24 24\"\n",
              "       width=\"24px\">\n",
              "    <path d=\"M0 0h24v24H0V0z\" fill=\"none\"/>\n",
              "    <path d=\"M18.56 5.44l.94 2.06.94-2.06 2.06-.94-2.06-.94-.94-2.06-.94 2.06-2.06.94zm-11 1L8.5 8.5l.94-2.06 2.06-.94-2.06-.94L8.5 2.5l-.94 2.06-2.06.94zm10 10l.94 2.06.94-2.06 2.06-.94-2.06-.94-.94-2.06-.94 2.06-2.06.94z\"/><path d=\"M17.41 7.96l-1.37-1.37c-.4-.4-.92-.59-1.43-.59-.52 0-1.04.2-1.43.59L10.3 9.45l-7.72 7.72c-.78.78-.78 2.05 0 2.83L4 21.41c.39.39.9.59 1.41.59.51 0 1.02-.2 1.41-.59l7.78-7.78 2.81-2.81c.8-.78.8-2.07 0-2.86zM5.41 20L4 18.59l7.72-7.72 1.47 1.35L5.41 20z\"/>\n",
              "  </svg>\n",
              "      </button>\n",
              "      \n",
              "  <style>\n",
              "    .colab-df-container {\n",
              "      display:flex;\n",
              "      flex-wrap:wrap;\n",
              "      gap: 12px;\n",
              "    }\n",
              "\n",
              "    .colab-df-convert {\n",
              "      background-color: #E8F0FE;\n",
              "      border: none;\n",
              "      border-radius: 50%;\n",
              "      cursor: pointer;\n",
              "      display: none;\n",
              "      fill: #1967D2;\n",
              "      height: 32px;\n",
              "      padding: 0 0 0 0;\n",
              "      width: 32px;\n",
              "    }\n",
              "\n",
              "    .colab-df-convert:hover {\n",
              "      background-color: #E2EBFA;\n",
              "      box-shadow: 0px 1px 2px rgba(60, 64, 67, 0.3), 0px 1px 3px 1px rgba(60, 64, 67, 0.15);\n",
              "      fill: #174EA6;\n",
              "    }\n",
              "\n",
              "    [theme=dark] .colab-df-convert {\n",
              "      background-color: #3B4455;\n",
              "      fill: #D2E3FC;\n",
              "    }\n",
              "\n",
              "    [theme=dark] .colab-df-convert:hover {\n",
              "      background-color: #434B5C;\n",
              "      box-shadow: 0px 1px 3px 1px rgba(0, 0, 0, 0.15);\n",
              "      filter: drop-shadow(0px 1px 2px rgba(0, 0, 0, 0.3));\n",
              "      fill: #FFFFFF;\n",
              "    }\n",
              "  </style>\n",
              "\n",
              "      <script>\n",
              "        const buttonEl =\n",
              "          document.querySelector('#df-2613fed6-a56d-4be3-ac0d-30401bf2277f button.colab-df-convert');\n",
              "        buttonEl.style.display =\n",
              "          google.colab.kernel.accessAllowed ? 'block' : 'none';\n",
              "\n",
              "        async function convertToInteractive(key) {\n",
              "          const element = document.querySelector('#df-2613fed6-a56d-4be3-ac0d-30401bf2277f');\n",
              "          const dataTable =\n",
              "            await google.colab.kernel.invokeFunction('convertToInteractive',\n",
              "                                                     [key], {});\n",
              "          if (!dataTable) return;\n",
              "\n",
              "          const docLinkHtml = 'Like what you see? Visit the ' +\n",
              "            '<a target=\"_blank\" href=https://colab.research.google.com/notebooks/data_table.ipynb>data table notebook</a>'\n",
              "            + ' to learn more about interactive tables.';\n",
              "          element.innerHTML = '';\n",
              "          dataTable['output_type'] = 'display_data';\n",
              "          await google.colab.output.renderOutput(dataTable, element);\n",
              "          const docLink = document.createElement('div');\n",
              "          docLink.innerHTML = docLinkHtml;\n",
              "          element.appendChild(docLink);\n",
              "        }\n",
              "      </script>\n",
              "    </div>\n",
              "  </div>\n",
              "  "
            ]
          },
          "metadata": {},
          "execution_count": 5
        }
      ]
    },
    {
      "cell_type": "code",
      "source": [
        "data.hist(['1970 Population'], grid=False)"
      ],
      "metadata": {
        "colab": {
          "base_uri": "https://localhost:8080/",
          "height": 329
        },
        "id": "3otWashfro8m",
        "outputId": "f70df8b8-1600-404c-c89c-3fb1a5f6aeaf"
      },
      "execution_count": 6,
      "outputs": [
        {
          "output_type": "execute_result",
          "data": {
            "text/plain": [
              "array([[<matplotlib.axes._subplots.AxesSubplot object at 0x7f7e96606e50>]],\n",
              "      dtype=object)"
            ]
          },
          "metadata": {},
          "execution_count": 6
        },
        {
          "output_type": "display_data",
          "data": {
            "text/plain": [
              "<Figure size 432x288 with 1 Axes>"
            ],
            "image/png": "[encoded data removed]"
          },
          "metadata": {
            "needs_background": "light"
          }
        }
      ]
    },
    {
      "cell_type": "code",
      "source": [
        "data.hist(['1980 Population'], grid=False)"
      ],
      "metadata": {
        "colab": {
          "base_uri": "https://localhost:8080/",
          "height": 329
        },
        "id": "pl2V5pPsrmBZ",
        "outputId": "fba3d70e-ae79-4f17-a048-558ff92a236a"
      },
      "execution_count": 7,
      "outputs": [
        {
          "output_type": "execute_result",
          "data": {
            "text/plain": [
              "array([[<matplotlib.axes._subplots.AxesSubplot object at 0x7f7e964f0710>]],\n",
              "      dtype=object)"
            ]
          },
          "metadata": {},
          "execution_count": 7
        },
        {
          "output_type": "display_data",
          "data": {
            "text/plain": [
              "<Figure size 432x288 with 1 Axes>"
            ],
            "image/png": "[encoded data removed]"
          },
          "metadata": {
            "needs_background": "light"
          }
        }
      ]
    },
    {
      "cell_type": "code",
      "source": [
        "data.hist(['1990 Population'], grid=False)"
      ],
      "metadata": {
        "colab": {
          "base_uri": "https://localhost:8080/",
          "height": 329
        },
        "id": "9ehi3zLZri8J",
        "outputId": "2d44c390-a982-4ce8-a117-b86b113626bd"
      },
      "execution_count": 8,
      "outputs": [
        {
          "output_type": "execute_result",
          "data": {
            "text/plain": [
              "array([[<matplotlib.axes._subplots.AxesSubplot object at 0x7f7e96039150>]],\n",
              "      dtype=object)"
            ]
          },
          "metadata": {},
          "execution_count": 8
        },
        {
          "output_type": "display_data",
          "data": {
            "text/plain": [
              "<Figure size 432x288 with 1 Axes>"
            ],
            "image/png": "[encoded data removed]"
          },
          "metadata": {
            "needs_background": "light"
          }
        }
      ]
    },
    {
      "cell_type": "code",
      "source": [
        "data.hist(['2000 Population'], grid=False)"
      ],
      "metadata": {
        "colab": {
          "base_uri": "https://localhost:8080/",
          "height": 329
        },
        "id": "SL-t0qRBrg5I",
        "outputId": "a41ed9e9-d9a5-4f77-f8df-c9deb4749534"
      },
      "execution_count": 9,
      "outputs": [
        {
          "output_type": "execute_result",
          "data": {
            "text/plain": [
              "array([[<matplotlib.axes._subplots.AxesSubplot object at 0x7f7e95fb6850>]],\n",
              "      dtype=object)"
            ]
          },
          "metadata": {},
          "execution_count": 9
        },
        {
          "output_type": "display_data",
          "data": {
            "text/plain": [
              "<Figure size 432x288 with 1 Axes>"
            ],
            "image/png": "[encoded data removed]"
          },
          "metadata": {
            "needs_background": "light"
          }
        }
      ]
    },
    {
      "cell_type": "code",
      "source": [
        "data.hist(['2010 Population'], grid=False)"
      ],
      "metadata": {
        "colab": {
          "base_uri": "https://localhost:8080/",
          "height": 329
        },
        "id": "TWgMx2Iyreem",
        "outputId": "94e5890d-9603-4636-8fe1-a90e14b65348"
      },
      "execution_count": 10,
      "outputs": [
        {
          "output_type": "execute_result",
          "data": {
            "text/plain": [
              "array([[<matplotlib.axes._subplots.AxesSubplot object at 0x7f7e95f75b10>]],\n",
              "      dtype=object)"
            ]
          },
          "metadata": {},
          "execution_count": 10
        },
        {
          "output_type": "display_data",
          "data": {
            "text/plain": [
              "<Figure size 432x288 with 1 Axes>"
            ],
            "image/png": "[encoded data removed]"
          },
          "metadata": {
            "needs_background": "light"
          }
        }
      ]
    },
    {
      "cell_type": "code",
      "source": [
        "data.hist(['2015 Population'], grid=False)"
      ],
      "metadata": {
        "colab": {
          "base_uri": "https://localhost:8080/",
          "height": 329
        },
        "id": "OaS8UaVBra-Y",
        "outputId": "cd2a7405-e655-4bd9-868d-dbecb008ae76"
      },
      "execution_count": 11,
      "outputs": [
        {
          "output_type": "execute_result",
          "data": {
            "text/plain": [
              "array([[<matplotlib.axes._subplots.AxesSubplot object at 0x7f7e95f4c8d0>]],\n",
              "      dtype=object)"
            ]
          },
          "metadata": {},
          "execution_count": 11
        },
        {
          "output_type": "display_data",
          "data": {
            "text/plain": [
              "<Figure size 432x288 with 1 Axes>"
            ],
            "image/png": "[encoded data removed]"
          },
          "metadata": {
            "needs_background": "light"
          }
        }
      ]
    },
    {
      "cell_type": "code",
      "source": [
        "data.hist(['2020 Population'], grid=False)"
      ],
      "metadata": {
        "colab": {
          "base_uri": "https://localhost:8080/",
          "height": 329
        },
        "id": "H2jTU5uArVjN",
        "outputId": "edc53be7-02fd-4dab-f0d5-ac840210e486"
      },
      "execution_count": 12,
      "outputs": [
        {
          "output_type": "execute_result",
          "data": {
            "text/plain": [
              "array([[<matplotlib.axes._subplots.AxesSubplot object at 0x7f7e95e8c990>]],\n",
              "      dtype=object)"
            ]
          },
          "metadata": {},
          "execution_count": 12
        },
        {
          "output_type": "display_data",
          "data": {
            "text/plain": [
              "<Figure size 432x288 with 1 Axes>"
            ],
            "image/png": "[encoded data removed]"
          },
          "metadata": {
            "needs_background": "light"
          }
        }
      ]
    },
    {
      "cell_type": "code",
      "source": [
        "data.hist(['2022 Population'], grid=False)"
      ],
      "metadata": {
        "colab": {
          "base_uri": "https://localhost:8080/",
          "height": 329
        },
        "id": "SH0FvruGq3t3",
        "outputId": "4117f33a-7eba-4025-8dcc-abcb769b3b63"
      },
      "execution_count": 13,
      "outputs": [
        {
          "output_type": "execute_result",
          "data": {
            "text/plain": [
              "array([[<matplotlib.axes._subplots.AxesSubplot object at 0x7f7e95fecc50>]],\n",
              "      dtype=object)"
            ]
          },
          "metadata": {},
          "execution_count": 13
        },
        {
          "output_type": "display_data",
          "data": {
            "text/plain": [
              "<Figure size 432x288 with 1 Axes>"
            ],
            "image/png": "[encoded data removed]"
          },
          "metadata": {
            "needs_background": "light"
          }
        }
      ]
    },
    {
      "cell_type": "code",
      "source": [
        "  data.isna().sum()"
      ],
      "metadata": {
        "colab": {
          "base_uri": "https://localhost:8080/"
        },
        "id": "tMJn4hJrr2cE",
        "outputId": "7c34b116-7a95-4b87-ee9d-491bd758b597"
      },
      "execution_count": 14,
      "outputs": [
        {
          "output_type": "execute_result",
          "data": {
            "text/plain": [
              "Rank                           0\n",
              "CCA3                           0\n",
              "Country                        0\n",
              "Capital                        0\n",
              "Continent                      0\n",
              "2022 Population                0\n",
              "2020 Population                0\n",
              "2015 Population                0\n",
              "2010 Population                0\n",
              "2000 Population                0\n",
              "1990 Population                0\n",
              "1980 Population                0\n",
              "1970 Population                0\n",
              "Area (km²)                     0\n",
              "Density (per km²)              0\n",
              "Growth Rate                    0\n",
              "World Population Percentage    0\n",
              "dtype: int64"
            ]
          },
          "metadata": {},
          "execution_count": 14
        }
      ]
    },
    {
      "cell_type": "code",
      "source": [
        "sns.boxenplot(data['Area (km²)'])"
      ],
      "metadata": {
        "colab": {
          "base_uri": "https://localhost:8080/",
          "height": 351
        },
        "id": "OjueTWSi0kVH",
        "outputId": "a5e1891e-e075-4754-86ed-cba9117b89fb"
      },
      "execution_count": 15,
      "outputs": [
        {
          "output_type": "stream",
          "name": "stderr",
          "text": [
            "/usr/local/lib/python3.7/dist-packages/seaborn/_decorators.py:43: FutureWarning: Pass the following variable as a keyword arg: x. From version 0.12, the only valid positional argument will be `data`, and passing other arguments without an explicit keyword will result in an error or misinterpretation.\n",
            "  FutureWarning\n"
          ]
        },
        {
          "output_type": "execute_result",
          "data": {
            "text/plain": [
              "<matplotlib.axes._subplots.AxesSubplot at 0x7f7e95d2c290>"
            ]
          },
          "metadata": {},
          "execution_count": 15
        },
        {
          "output_type": "display_data",
          "data": {
            "text/plain": [
              "<Figure size 432x288 with 1 Axes>"
            ],
            "image/png": "[encoded data removed]"
          },
          "metadata": {
            "needs_background": "light"
          }
        }
      ]
    },
    {
      "cell_type": "code",
      "source": [
        "data.Country.unique()"
      ],
      "metadata": {
        "colab": {
          "base_uri": "https://localhost:8080/"
        },
        "id": "FiMMZOYcG2I2",
        "outputId": "9ed4d2a0-bb35-4200-9ecb-d6e6d81fc1bf"
      },
      "execution_count": 27,
      "outputs": [
        {
          "output_type": "execute_result",
          "data": {
            "text/plain": [
              "array(['Afghanistan', 'Albania', 'Algeria', 'American Samoa', 'Andorra',\n",
              "       'Angola', 'Anguilla', 'Antigua and Barbuda', 'Argentina',\n",
              "       'Armenia', 'Aruba', 'Australia', 'Austria', 'Azerbaijan',\n",
              "       'Bahamas', 'Bahrain', 'Bangladesh', 'Barbados', 'Belarus',\n",
              "       'Belgium', 'Belize', 'Benin', 'Bermuda', 'Bhutan', 'Bolivia',\n",
              "       'Bosnia and Herzegovina', 'Botswana', 'Brazil',\n",
              "       'British Virgin Islands', 'Brunei', 'Bulgaria', 'Burkina Faso',\n",
              "       'Burundi', 'Cambodia', 'Cameroon', 'Canada', 'Cape Verde',\n",
              "       'Cayman Islands', 'Central African Republic', 'Chad', 'Chile',\n",
              "       'China', 'Colombia', 'Comoros', 'Cook Islands', 'Costa Rica',\n",
              "       'Croatia', 'Cuba', 'Curacao', 'Cyprus', 'Czech Republic',\n",
              "       'Denmark', 'Djibouti', 'Dominica', 'Dominican Republic',\n",
              "       'DR Congo', 'Ecuador', 'Egypt', 'El Salvador', 'Equatorial Guinea',\n",
              "       'Eritrea', 'Estonia', 'Eswatini', 'Ethiopia', 'Falkland Islands',\n",
              "       'Faroe Islands', 'Fiji', 'Finland', 'France', 'French Guiana',\n",
              "       'French Polynesia', 'Gabon', 'Gambia', 'Georgia', 'Germany',\n",
              "       'Ghana', 'Gibraltar', 'Greece', 'Greenland', 'Grenada',\n",
              "       'Guadeloupe', 'Guam', 'Guatemala', 'Guernsey', 'Guinea',\n",
              "       'Guinea-Bissau', 'Guyana', 'Haiti', 'Honduras', 'Hong Kong',\n",
              "       'Hungary', 'Iceland', 'India', 'Indonesia', 'Iran', 'Iraq',\n",
              "       'Ireland', 'Isle of Man', 'Israel', 'Italy', 'Ivory Coast',\n",
              "       'Jamaica', 'Japan', 'Jersey', 'Jordan', 'Kazakhstan', 'Kenya',\n",
              "       'Kiribati', 'Kuwait', 'Kyrgyzstan', 'Laos', 'Latvia', 'Lebanon',\n",
              "       'Lesotho', 'Liberia', 'Libya', 'Liechtenstein', 'Lithuania',\n",
              "       'Luxembourg', 'Macau', 'Madagascar', 'Malawi', 'Malaysia',\n",
              "       'Maldives', 'Mali', 'Malta', 'Marshall Islands', 'Martinique',\n",
              "       'Mauritania', 'Mauritius', 'Mayotte', 'Mexico', 'Micronesia',\n",
              "       'Moldova', 'Monaco', 'Mongolia', 'Montenegro', 'Montserrat',\n",
              "       'Morocco', 'Mozambique', 'Myanmar', 'Namibia', 'Nauru', 'Nepal',\n",
              "       'Netherlands', 'New Caledonia', 'New Zealand', 'Nicaragua',\n",
              "       'Niger', 'Nigeria', 'Niue', 'North Korea', 'North Macedonia',\n",
              "       'Northern Mariana Islands', 'Norway', 'Oman', 'Pakistan', 'Palau',\n",
              "       'Palestine', 'Panama', 'Papua New Guinea', 'Paraguay', 'Peru',\n",
              "       'Philippines', 'Poland', 'Portugal', 'Puerto Rico', 'Qatar',\n",
              "       'Republic of the Congo', 'Reunion', 'Romania', 'Russia', 'Rwanda',\n",
              "       'Saint Barthelemy', 'Saint Kitts and Nevis', 'Saint Lucia',\n",
              "       'Saint Martin', 'Saint Pierre and Miquelon',\n",
              "       'Saint Vincent and the Grenadines', 'Samoa', 'San Marino',\n",
              "       'Sao Tome and Principe', 'Saudi Arabia', 'Senegal', 'Serbia',\n",
              "       'Seychelles', 'Sierra Leone', 'Singapore', 'Sint Maarten',\n",
              "       'Slovakia', 'Slovenia', 'Solomon Islands', 'Somalia',\n",
              "       'South Africa', 'South Korea', 'South Sudan', 'Spain', 'Sri Lanka',\n",
              "       'Sudan', 'Suriname', 'Sweden', 'Switzerland', 'Syria', 'Taiwan',\n",
              "       'Tajikistan', 'Tanzania', 'Thailand', 'Timor-Leste', 'Togo',\n",
              "       'Tokelau', 'Tonga', 'Trinidad and Tobago', 'Tunisia', 'Turkey',\n",
              "       'Turkmenistan', 'Turks and Caicos Islands', 'Tuvalu', 'Uganda',\n",
              "       'Ukraine', 'United Arab Emirates', 'United Kingdom',\n",
              "       'United States', 'United States Virgin Islands', 'Uruguay',\n",
              "       'Uzbekistan', 'Vanuatu', 'Vatican City', 'Venezuela', 'Vietnam',\n",
              "       'Wallis and Futuna', 'Western Sahara', 'Yemen', 'Zambia',\n",
              "       'Zimbabwe'], dtype=object)"
            ]
          },
          "metadata": {},
          "execution_count": 27
        }
      ]
    },
    {
      "cell_type": "code",
      "source": [
        "data.Country.value_counts()"
      ],
      "metadata": {
        "colab": {
          "base_uri": "https://localhost:8080/"
        },
        "id": "NOIcEo5g0x3P",
        "outputId": "990b640d-1d79-4147-c23d-2188a1b541b1"
      },
      "execution_count": 26,
      "outputs": [
        {
          "output_type": "execute_result",
          "data": {
            "text/plain": [
              "Afghanistan         1\n",
              "Papua New Guinea    1\n",
              "Niger               1\n",
              "Nigeria             1\n",
              "Niue                1\n",
              "                   ..\n",
              "Guatemala           1\n",
              "Guernsey            1\n",
              "Guinea              1\n",
              "Guinea-Bissau       1\n",
              "Zimbabwe            1\n",
              "Name: Country, Length: 234, dtype: int64"
            ]
          },
          "metadata": {},
          "execution_count": 26
        }
      ]
    },
    {
      "cell_type": "code",
      "source": [
        "data1 = data.groupby('2022 Population')['Country'].nunique()\n",
        "print(data1)"
      ],
      "metadata": {
        "colab": {
          "base_uri": "https://localhost:8080/"
        },
        "id": "8D-pYOK3EaJw",
        "outputId": "bb476ced-043c-4c27-bfae-daeb2c35550e"
      },
      "execution_count": 23,
      "outputs": [
        {
          "output_type": "stream",
          "name": "stdout",
          "text": [
            "2022 Population\n",
            "510           1\n",
            "1871          1\n",
            "1934          1\n",
            "3780          1\n",
            "4390          1\n",
            "             ..\n",
            "235824862     1\n",
            "275501339     1\n",
            "338289857     1\n",
            "1417173173    1\n",
            "1425887337    1\n",
            "Name: Country, Length: 234, dtype: int64\n"
          ]
        }
      ]
    },
    {
      "cell_type": "code",
      "source": [
        "print(data[\"2022 Population\"].mean())"
      ],
      "metadata": {
        "colab": {
          "base_uri": "https://localhost:8080/"
        },
        "id": "WkAsqDsMKU0P",
        "outputId": "fccb32fc-c7fb-4181-e256-cef5087bd2ea"
      },
      "execution_count": 45,
      "outputs": [
        {
          "output_type": "stream",
          "name": "stdout",
          "text": [
            "34074414.70940171\n"
          ]
        }
      ]
    },
    {
      "cell_type": "code",
      "source": [
        "df6 = (data.groupby([data.Country=='United States'], as_index=False)\n",
        "         .agg({'2022 Population':'mean'}))"
      ],
      "metadata": {
        "id": "Uq7T87ubIn6y"
      },
      "execution_count": 41,
      "outputs": []
    },
    {
      "cell_type": "code",
      "source": [
        "print(df6)"
      ],
      "metadata": {
        "colab": {
          "base_uri": "https://localhost:8080/"
        },
        "id": "HWnEwghjJ70r",
        "outputId": "fc848038-f12f-4a96-a4d8-91c5c23e7717"
      },
      "execution_count": 42,
      "outputs": [
        {
          "output_type": "stream",
          "name": "stdout",
          "text": [
            "   2022 Population\n",
            "0     3.276877e+07\n",
            "1     3.382899e+08\n"
          ]
        }
      ]
    },
    {
      "cell_type": "code",
      "source": [
        "print((data.groupby([data.Country=='United States'], as_index=False)\n",
        "         .agg({'2022 Population':'max'})))"
      ],
      "metadata": {
        "colab": {
          "base_uri": "https://localhost:8080/"
        },
        "id": "lMREK2KOKA-I",
        "outputId": "3d2b21c7-41ea-4959-acb1-94692de2c03a"
      },
      "execution_count": 40,
      "outputs": [
        {
          "output_type": "stream",
          "name": "stdout",
          "text": [
            "   2022 Population\n",
            "0       1425887337\n",
            "1        338289857\n"
          ]
        }
      ]
    },
    {
      "cell_type": "code",
      "source": [
        "print((data.groupby([data.Country=='United States'], as_index=False)\n",
        "         .agg({'2022 Population':'min'})))"
      ],
      "metadata": {
        "colab": {
          "base_uri": "https://localhost:8080/"
        },
        "id": "stclIPDWKLwV",
        "outputId": "d35712ec-2e9c-4ecf-a23c-5f081d67910b"
      },
      "execution_count": 43,
      "outputs": [
        {
          "output_type": "stream",
          "name": "stdout",
          "text": [
            "   2022 Population\n",
            "0              510\n",
            "1        338289857\n"
          ]
        }
      ]
    },
    {
      "cell_type": "code",
      "source": [
        "sns.distplot(data[\"2022 Population\"])"
      ],
      "metadata": {
        "colab": {
          "base_uri": "https://localhost:8080/",
          "height": 362
        },
        "id": "ZvAQiu4tLGJN",
        "outputId": "2c0b770b-c40b-463c-e60b-3606301f9a08"
      },
      "execution_count": 46,
      "outputs": [
        {
          "output_type": "stream",
          "name": "stderr",
          "text": [
            "/usr/local/lib/python3.7/dist-packages/seaborn/distributions.py:2619: FutureWarning: `distplot` is a deprecated function and will be removed in a future version. Please adapt your code to use either `displot` (a figure-level function with similar flexibility) or `histplot` (an axes-level function for histograms).\n",
            "  warnings.warn(msg, FutureWarning)\n"
          ]
        },
        {
          "output_type": "execute_result",
          "data": {
            "text/plain": [
              "<matplotlib.axes._subplots.AxesSubplot at 0x7f7e903ef510>"
            ]
          },
          "metadata": {},
          "execution_count": 46
        },
        {
          "output_type": "display_data",
          "data": {
            "text/plain": [
              "<Figure size 432x288 with 1 Axes>"
            ],
            "image/png": "[encoded data removed]"
          },
          "metadata": {
            "needs_background": "light"
          }
        }
      ]
    },
    {
      "cell_type": "code",
      "source": [
        "sns.distplot(data['2015 Population'])"
      ],
      "metadata": {
        "colab": {
          "base_uri": "https://localhost:8080/",
          "height": 362
        },
        "id": "Fwy2AgtZLt7q",
        "outputId": "420f1442-5d7c-4e09-d479-39693eb3549f"
      },
      "execution_count": 49,
      "outputs": [
        {
          "output_type": "stream",
          "name": "stderr",
          "text": [
            "/usr/local/lib/python3.7/dist-packages/seaborn/distributions.py:2619: FutureWarning: `distplot` is a deprecated function and will be removed in a future version. Please adapt your code to use either `displot` (a figure-level function with similar flexibility) or `histplot` (an axes-level function for histograms).\n",
            "  warnings.warn(msg, FutureWarning)\n"
          ]
        },
        {
          "output_type": "execute_result",
          "data": {
            "text/plain": [
              "<matplotlib.axes._subplots.AxesSubplot at 0x7f7e90026250>"
            ]
          },
          "metadata": {},
          "execution_count": 49
        },
        {
          "output_type": "display_data",
          "data": {
            "text/plain": [
              "<Figure size 432x288 with 1 Axes>"
            ],
            "image/png": "[encoded data removed]"
          },
          "metadata": {
            "needs_background": "light"
          }
        }
      ]
    },
    {
      "cell_type": "code",
      "source": [
        "sns.kdeplot(data['2022 Population'])"
      ],
      "metadata": {
        "colab": {
          "base_uri": "https://localhost:8080/",
          "height": 307
        },
        "id": "Fjdy-XmYLNGd",
        "outputId": "d093af09-19f5-4b0f-83fe-fa5ae30223de"
      },
      "execution_count": 47,
      "outputs": [
        {
          "output_type": "execute_result",
          "data": {
            "text/plain": [
              "<matplotlib.axes._subplots.AxesSubplot at 0x7f7e90109950>"
            ]
          },
          "metadata": {},
          "execution_count": 47
        },
        {
          "output_type": "display_data",
          "data": {
            "text/plain": [
              "<Figure size 432x288 with 1 Axes>"
            ],
            "image/png": "[encoded data removed]"
          },
          "metadata": {
            "needs_background": "light"
          }
        }
      ]
    },
    {
      "cell_type": "code",
      "source": [
        "sns.kdeplot(data['2015 Population'])"
      ],
      "metadata": {
        "colab": {
          "base_uri": "https://localhost:8080/",
          "height": 307
        },
        "id": "oE1nPJK_LlTQ",
        "outputId": "0aafe067-d730-4cff-9378-07b1c3c3d68f"
      },
      "execution_count": 48,
      "outputs": [
        {
          "output_type": "execute_result",
          "data": {
            "text/plain": [
              "<matplotlib.axes._subplots.AxesSubplot at 0x7f7e90197d50>"
            ]
          },
          "metadata": {},
          "execution_count": 48
        },
        {
          "output_type": "display_data",
          "data": {
            "text/plain": [
              "<Figure size 432x288 with 1 Axes>"
            ],
            "image/png": "[encoded data removed]"
          },
          "metadata": {
            "needs_background": "light"
          }
        }
      ]
    },
    {
      "cell_type": "code",
      "source": [
        "country = data.query(\"Country < 'South Korea'\")\n",
        "sns.lineplot(data=country, x=\"2022 Population\", y=\"2015 Population\")"
      ],
      "metadata": {
        "colab": {
          "base_uri": "https://localhost:8080/",
          "height": 307
        },
        "id": "xK80TwL4L4tA",
        "outputId": "d21dc93a-273b-4806-9b7a-4c44feb119d0"
      },
      "execution_count": 50,
      "outputs": [
        {
          "output_type": "execute_result",
          "data": {
            "text/plain": [
              "<matplotlib.axes._subplots.AxesSubplot at 0x7f7e8ff13710>"
            ]
          },
          "metadata": {},
          "execution_count": 50
        },
        {
          "output_type": "display_data",
          "data": {
            "text/plain": [
              "<Figure size 432x288 with 1 Axes>"
            ],
            "image/png": "[encoded data removed]"
          },
          "metadata": {
            "needs_background": "light"
          }
        }
      ]
    },
    {
      "cell_type": "code",
      "source": [
        "import warnings\n",
        "warnings.filterwarnings('ignore')"
      ],
      "metadata": {
        "id": "jv4D5xbJNPgy"
      },
      "execution_count": 53,
      "outputs": []
    },
    {
      "cell_type": "code",
      "source": [
        "plt.figure(figsize=(8,5))\n",
        "sns.heatmap(data.corr(),  annot=True)"
      ],
      "metadata": {
        "colab": {
          "base_uri": "https://localhost:8080/",
          "height": 474
        },
        "id": "bn3DEnpPNzer",
        "outputId": "1ebc0f9c-a23d-4f86-ab82-a4ef8c524b80"
      },
      "execution_count": 58,
      "outputs": [
        {
          "output_type": "execute_result",
          "data": {
            "text/plain": [
              "<matplotlib.axes._subplots.AxesSubplot at 0x7f7e8d7f3f10>"
            ]
          },
          "metadata": {},
          "execution_count": 58
        },
        {
          "output_type": "display_data",
          "data": {
            "text/plain": [
              "<Figure size 576x360 with 2 Axes>"
            ],
            "image/png": "[encoded data removed]"
          },
          "metadata": {
            "needs_background": "light"
          }
        }
      ]
    }
  ]
}